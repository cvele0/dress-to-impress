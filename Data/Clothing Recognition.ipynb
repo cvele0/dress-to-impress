{
 "cells": [
  {
   "cell_type": "code",
   "execution_count": 1,
   "metadata": {},
   "outputs": [
    {
     "name": "stdout",
     "output_type": "stream",
     "text": [
      "                                     IMAGE_VERSION_1  \\\n",
      "0  https://static.zara.net/photos///2024/V/0/3/p/...   \n",
      "1  https://static.zara.net/photos///2024/V/0/3/p/...   \n",
      "2  https://static.zara.net/photos///2024/V/0/1/p/...   \n",
      "3  https://static.zara.net/photos///2024/V/0/2/p/...   \n",
      "4  https://static.zara.net/photos///2024/V/0/2/p/...   \n",
      "\n",
      "                                     IMAGE_VERSION_2  \\\n",
      "0  https://static.zara.net/photos///2024/V/0/3/p/...   \n",
      "1  https://static.zara.net/photos///2024/V/0/3/p/...   \n",
      "2  https://static.zara.net/photos///2024/V/0/1/p/...   \n",
      "3  https://static.zara.net/photos///2024/V/0/2/p/...   \n",
      "4  https://static.zara.net/photos///2024/V/0/2/p/...   \n",
      "\n",
      "                                     IMAGE_VERSION_3  year season  \\\n",
      "0  https://static.zara.net/photos///2024/V/0/3/p/...  2024      V   \n",
      "1  https://static.zara.net/photos///2024/V/0/3/p/...  2024      V   \n",
      "2  https://static.zara.net/photos///2024/V/0/1/p/...  2024      V   \n",
      "3  https://static.zara.net/photos///2024/V/0/2/p/...  2024      V   \n",
      "4  https://static.zara.net/photos///2024/V/0/2/p/...  2024      V   \n",
      "\n",
      "   productType  section            IMGName1            IMGName2  \\\n",
      "0          0.0      3.0  0_1_2024_V_0_3.jpg  0_2_2024_V_0_3.jpg   \n",
      "1          0.0      3.0  1_1_2024_V_0_3.jpg  1_2_2024_V_0_3.jpg   \n",
      "2          0.0      1.0  2_1_2024_V_0_1.jpg  2_2_2024_V_0_1.jpg   \n",
      "3          0.0      2.0  3_1_2024_V_0_2.jpg  3_2_2024_V_0_2.jpg   \n",
      "4          0.0      2.0  4_1_2024_V_0_2.jpg  4_2_2024_V_0_2.jpg   \n",
      "\n",
      "             IMGName3  \n",
      "0  0_3_2024_V_0_3.jpg  \n",
      "1  1_3_2024_V_0_3.jpg  \n",
      "2  2_3_2024_V_0_1.jpg  \n",
      "3  3_3_2024_V_0_2.jpg  \n",
      "4  4_3_2024_V_0_2.jpg  \n"
     ]
    }
   ],
   "source": [
    "import pandas as pd\n",
    "import matplotlib.pyplot as plt\n",
    "\n",
    "csv_file_path = 'Metadata.csv'\n",
    "df = pd.read_csv(csv_file_path)\n",
    "\n",
    "print(df.head())"
   ]
  },
  {
   "cell_type": "code",
   "execution_count": 13,
   "id": "c596cc74",
   "metadata": {},
   "outputs": [
    {
     "name": "stdout",
     "output_type": "stream",
     "text": [
      "{'miniskirt': 63.7125, 'sweatshirt': 54.177, 'cardigan': 10.8096, 'croquet ball': 3.3545, 'maillot': 2.4442, 'velvet': 2.3948, 'Loafer': 2.322, 'brassiere': 2.2454, 'poncho': 1.5903}\n"
     ]
    }
   ],
   "source": [
    "from imageai.Classification import ImageClassification\n",
    "import os\n",
    "\n",
    "execution_path = os.getcwd()\n",
    "\n",
    "prediction = ImageClassification()\n",
    "prediction.setModelTypeAsDenseNet121()\n",
    "prediction.setModelPath(os.path.join(execution_path, \"densenet121-a639ec97.pth\"))\n",
    "prediction.loadModel()\n",
    "\n",
    "image = \"Images/8_{}_2024_V_0_1.jpg\"\n",
    "image_summary = {}\n",
    "\n",
    "for i in range(1, 3):\n",
    "    predictions, probabilities = prediction.classifyImage(os.path.join(execution_path, image.format(i)), result_count=5 )\n",
    "    for eachPrediction, eachProbability in zip(predictions, probabilities):\n",
    "        if eachPrediction in image_summary:\n",
    "            image_summary[eachPrediction] += eachProbability\n",
    "        else:\n",
    "            image_summary[eachPrediction] = eachProbability\n",
    "\n",
    "\n",
    "sorted_image_summary = dict(sorted(image_summary.items(), key=lambda x: x[1], reverse=True))\n",
    "\n",
    "print(sorted_image_summary)\n"
   ]
  },
  {
   "cell_type": "code",
   "execution_count": null,
   "id": "5717f8eb",
   "metadata": {},
   "outputs": [],
   "source": [
    "plt.figure(figsize=(10,10))\n",
    "for i in range(1):\n",
    "    plt.subplot(3,3,i+1)\n",
    "    plt.xticks([])\n",
    "    plt.yticks([])\n",
    "    plt.grid(False)\n",
    "    plt.imshow(df['IMGName1'][i], cmap=plt.cm.binary)\n",
    "    #plt.xlabel(class_names[train_labels[i]])\n",
    "plt.show()"
   ]
  }
 ],
 "metadata": {
  "kernelspec": {
   "display_name": "Python 3",
   "language": "python",
   "name": "python3"
  },
  "language_info": {
   "codemirror_mode": {
    "name": "ipython",
    "version": 3
   },
   "file_extension": ".py",
   "mimetype": "text/x-python",
   "name": "python",
   "nbconvert_exporter": "python",
   "pygments_lexer": "ipython3",
   "version": "3.8.0"
  }
 },
 "nbformat": 4,
 "nbformat_minor": 5
}
